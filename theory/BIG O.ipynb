{
 "cells": [
  {
   "cell_type": "markdown",
   "id": "545d41a8",
   "metadata": {},
   "source": [
    "### What is Big O :\n",
    "\n",
    "- Big O is way to compare the code.\n",
    "\n",
    "##### Time Complexity:\n",
    "- Lets say we are using stop watch for comparing execution time.\n",
    "- If code1 is better than code2 then in terms of execution time then its a time-complexity problem.\n",
    "- If we are using machine which is relative faster the other machine then code will run faster.\n",
    "- So this makes the computer better not the program itself.\n",
    "- Thats why we need some measure in terms of Maths thats why Big O comes in the picture.\n",
    "\n",
    "\n",
    "##### Space Complexity:\n",
    "- What if code is less space taking more time.\n",
    "- Thats why spacecomplexity comes in the picture\n",
    "\n",
    "<img src='../Images/bigo.png' width=\"500\" height=\"600\">"
   ]
  },
  {
   "cell_type": "markdown",
   "id": "8a45a96e",
   "metadata": {},
   "source": [
    "### Big oh (O)"
   ]
  },
  {
   "cell_type": "markdown",
   "id": "4edf66d8",
   "metadata": {},
   "source": [
    "- Whenever we talk about BIG Oh we are talking about Worst case"
   ]
  },
  {
   "cell_type": "markdown",
   "id": "cc05334a",
   "metadata": {},
   "source": [
    "### Big Omega (Ω)"
   ]
  },
  {
   "cell_type": "markdown",
   "id": "651a0758",
   "metadata": {},
   "source": [
    "- Whenever we talk about BIG Omega we are talking about Best case"
   ]
  },
  {
   "cell_type": "markdown",
   "id": "5022bb16",
   "metadata": {},
   "source": [
    "### Big Theta notation (Θ) "
   ]
  },
  {
   "cell_type": "markdown",
   "id": "26c59e08",
   "metadata": {},
   "source": [
    "- Whenever we talk about BIG Omega we are talking about Avg case"
   ]
  },
  {
   "cell_type": "markdown",
   "id": "480f6945",
   "metadata": {},
   "source": [
    "### O(1) O(constant)"
   ]
  },
  {
   "cell_type": "code",
   "execution_count": 4,
   "id": "4db450af",
   "metadata": {},
   "outputs": [
    {
     "name": "stdout",
     "output_type": "stream",
     "text": [
      "This is O(Constant)\n"
     ]
    }
   ],
   "source": [
    "print('This is O(Constant)') # This statement represents O(constant)"
   ]
  },
  {
   "cell_type": "markdown",
   "id": "5402831d",
   "metadata": {},
   "source": [
    "### O(n)"
   ]
  },
  {
   "cell_type": "markdown",
   "id": "5e7e6a31",
   "metadata": {},
   "source": [
    "- Some operation taking n number of steps to perform is O(n) e.g.: for loop"
   ]
  },
  {
   "cell_type": "code",
   "execution_count": 46,
   "id": "e52f6db4",
   "metadata": {},
   "outputs": [
    {
     "name": "stdout",
     "output_type": "stream",
     "text": [
      "0\n",
      "1\n",
      "2\n",
      "3\n",
      "4\n",
      "5\n",
      "6\n"
     ]
    }
   ],
   "source": [
    "n = 7\n",
    "for i in range(n): # O(n)\n",
    "    print(i)"
   ]
  },
  {
   "cell_type": "markdown",
   "id": "1d89ec60",
   "metadata": {},
   "source": [
    "### O(n²)"
   ]
  },
  {
   "cell_type": "markdown",
   "id": "8bde9a58",
   "metadata": {},
   "source": [
    "- Some operation taking n*n number of steps to perform is O(n) e.g.: nested for loop\n",
    "- O(n³) is considered to be same as that of O(n²)"
   ]
  },
  {
   "cell_type": "code",
   "execution_count": 47,
   "id": "24361eb5",
   "metadata": {
    "collapsed": true
   },
   "outputs": [
    {
     "name": "stdout",
     "output_type": "stream",
     "text": [
      "0 0\n",
      "0 1\n",
      "0 2\n",
      "0 3\n",
      "0 4\n",
      "0 5\n",
      "0 6\n",
      "0 7\n",
      "0 8\n",
      "0 9\n",
      "1 0\n",
      "1 1\n",
      "1 2\n",
      "1 3\n",
      "1 4\n",
      "1 5\n",
      "1 6\n",
      "1 7\n",
      "1 8\n",
      "1 9\n",
      "2 0\n",
      "2 1\n",
      "2 2\n",
      "2 3\n",
      "2 4\n",
      "2 5\n",
      "2 6\n",
      "2 7\n",
      "2 8\n",
      "2 9\n",
      "3 0\n",
      "3 1\n",
      "3 2\n",
      "3 3\n",
      "3 4\n",
      "3 5\n",
      "3 6\n",
      "3 7\n",
      "3 8\n",
      "3 9\n",
      "4 0\n",
      "4 1\n",
      "4 2\n",
      "4 3\n",
      "4 4\n",
      "4 5\n",
      "4 6\n",
      "4 7\n",
      "4 8\n",
      "4 9\n",
      "5 0\n",
      "5 1\n",
      "5 2\n",
      "5 3\n",
      "5 4\n",
      "5 5\n",
      "5 6\n",
      "5 7\n",
      "5 8\n",
      "5 9\n",
      "6 0\n",
      "6 1\n",
      "6 2\n",
      "6 3\n",
      "6 4\n",
      "6 5\n",
      "6 6\n",
      "6 7\n",
      "6 8\n",
      "6 9\n",
      "7 0\n",
      "7 1\n",
      "7 2\n",
      "7 3\n",
      "7 4\n",
      "7 5\n",
      "7 6\n",
      "7 7\n",
      "7 8\n",
      "7 9\n",
      "8 0\n",
      "8 1\n",
      "8 2\n",
      "8 3\n",
      "8 4\n",
      "8 5\n",
      "8 6\n",
      "8 7\n",
      "8 8\n",
      "8 9\n",
      "9 0\n",
      "9 1\n",
      "9 2\n",
      "9 3\n",
      "9 4\n",
      "9 5\n",
      "9 6\n",
      "9 7\n",
      "9 8\n",
      "9 9\n"
     ]
    }
   ],
   "source": [
    "n =10\n",
    "for i in range(n):\n",
    "    for j in range(n):\n",
    "        print(i,j)"
   ]
  },
  {
   "cell_type": "code",
   "execution_count": 70,
   "id": "02e65d0b",
   "metadata": {},
   "outputs": [
    {
     "data": {
      "text/plain": [
       "<matplotlib.legend.Legend at 0x2d17ac476d0>"
      ]
     },
     "execution_count": 70,
     "metadata": {},
     "output_type": "execute_result"
    },
    {
     "data": {
      "image/png": "[encoded data removed]",
      "text/plain": [
       "<Figure size 432x288 with 1 Axes>"
      ]
     },
     "metadata": {
      "needs_background": "light"
     },
     "output_type": "display_data"
    }
   ],
   "source": [
    "import matplotlib.pyplot as plt\n",
    "import warnings\n",
    "warnings.filterwarnings('ignore')\n",
    "\n",
    "x = np.linspace(0,10)\n",
    "plt.xlabel(\"No. of Operations\")\n",
    "plt.ylabel(\"Time required\")\n",
    "plt.plot(x,x)\n",
    "plt.plot(x,x**2)\n",
    "# plt.plot(x,x**3)\n",
    "plt.plot(x,np.log(x))\n",
    "plt.legend(['O(n)',\"O(n²)\", 'O(log(n))'])"
   ]
  },
  {
   "cell_type": "code",
   "execution_count": 54,
   "id": "3dc2c1e7",
   "metadata": {},
   "outputs": [],
   "source": [
    "# log2(8) = 3\n"
   ]
  },
  {
   "cell_type": "code",
   "execution_count": 55,
   "id": "bfe902d6",
   "metadata": {},
   "outputs": [
    {
     "data": {
      "text/plain": [
       "20.085536923187668"
      ]
     },
     "execution_count": 55,
     "metadata": {},
     "output_type": "execute_result"
    }
   ],
   "source": [
    "np.exp(3)"
   ]
  },
  {
   "cell_type": "code",
   "execution_count": 59,
   "id": "b6f701c1",
   "metadata": {},
   "outputs": [],
   "source": [
    "# Olog(n) is better cause suppose if we have 1 Billion numbers in the list"
   ]
  },
  {
   "cell_type": "code",
   "execution_count": 63,
   "id": "74fdc55d",
   "metadata": {},
   "outputs": [
    {
     "data": {
      "text/plain": [
       "29.897352853986263"
      ]
     },
     "execution_count": 63,
     "metadata": {},
     "output_type": "execute_result"
    }
   ],
   "source": [
    "np.log2(1000000 * 1000)"
   ]
  },
  {
   "cell_type": "raw",
   "id": "5064a754",
   "metadata": {},
   "source": [
    "So in 30 steps we can reach upto 1 Billion if we go by the approach of dividing the list and getting to the number. Which is actually the good approach.\n",
    "\n",
    "As you can see in the graph that Olog(n) is really very good!"
   ]
  },
  {
   "cell_type": "markdown",
   "id": "14e703e8",
   "metadata": {},
   "source": [
    "### Big O different terms for inputs"
   ]
  },
  {
   "cell_type": "code",
   "execution_count": 64,
   "id": "40f6b7bb",
   "metadata": {},
   "outputs": [],
   "source": [
    "def print_ab(a,b):\n",
    "    for i in range(a):\n",
    "        print(i)\n",
    "    \n",
    "    for j in range(b):\n",
    "        print(j)\n",
    "# So for this function the Time complexity will be O(a+b)\n",
    "\n",
    "def print_ab(a,b):\n",
    "    for i in range(a):\n",
    "        for j in range(b):\n",
    "            print(i,j)\n",
    "            \n",
    "# So for this function the Time complexity will be O(a*b)\n",
    "    "
   ]
  }
 ],
 "metadata": {
  "kernelspec": {
   "display_name": "Python 3 (ipykernel)",
   "language": "python",
   "name": "python3"
  },
  "language_info": {
   "codemirror_mode": {
    "name": "ipython",
    "version": 3
   },
   "file_extension": ".py",
   "mimetype": "text/x-python",
   "name": "python",
   "nbconvert_exporter": "python",
   "pygments_lexer": "ipython3",
   "version": "3.9.12"
  }
 },
 "nbformat": 4,
 "nbformat_minor": 5
}
